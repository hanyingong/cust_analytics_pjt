{
 "cells": [
  {
   "cell_type": "markdown",
   "metadata": {},
   "source": [
    "# Collaborative Filtering Using GraphLab for Implicit Dataset\n",
    "## (Part 1: Current Users Via Segment - Pearson vs Jaccarad vs Factorization)"
   ]
  },
  {
   "cell_type": "markdown",
   "metadata": {},
   "source": [
    "#### Objective : Apply and compare different models of collaborative Filtering and select the better recommender model"
   ]
  },
  {
   "cell_type": "markdown",
   "metadata": {},
   "source": [
    "#### Step 1 of 5: Upload Relevant Libraries\n",
    "\n",
    "Note: Need to sign up for academic license for the use of Graphlab's Library & Python 2 only."
   ]
  },
  {
   "cell_type": "code",
   "execution_count": 17,
   "metadata": {
    "collapsed": true
   },
   "outputs": [],
   "source": [
    "import pandas as pd\n",
    "import graphlab as gl"
   ]
  },
  {
   "cell_type": "markdown",
   "metadata": {},
   "source": [
    "#### Step 2 of 5: Download & Prepare Dataset\n",
    " Note: print the data to check if the dataset has been imported correctly "
   ]
  },
  {
   "cell_type": "code",
   "execution_count": 18,
   "metadata": {
    "collapsed": false
   },
   "outputs": [
    {
     "name": "stdout",
     "output_type": "stream",
     "text": [
      "     Type    Card_ID  SegmentNo Gender  Age Age_Grp  Length_of_Membership_MTH  \\\n",
      "0  Active  104829316          5      F   40   35-44                         0   \n",
      "1  Active  101480021          5      M   44   35-44                         0   \n",
      "2  Active  104219628          5      M   21   15-24                         0   \n",
      "3  Active  104219628          5      M   21   15-24                         0   \n",
      "4  Active  106272169          5      M   29   25-34                         0   \n",
      "\n",
      "  Membership_Grp           pdt_type  total_count  \n",
      "0        <= 1 YR    MP3Players_high          2.0  \n",
      "1        <= 1 YR    MP3Players_high          2.0  \n",
      "2        <= 1 YR  MP3Players_medium          2.0  \n",
      "3        <= 1 YR    MP3Players_high          1.0  \n",
      "4        <= 1 YR    Hardware_medium          1.0  \n"
     ]
    }
   ],
   "source": [
    "df = pd.read_csv('dataset\\dataset02_master.csv', sep = ',')\n",
    "print(df.head(5)) ## check data"
   ]
  },
  {
   "cell_type": "markdown",
   "metadata": {},
   "source": [
    "<b> Note 2: Slice and dice the dataset to keep relevant data only <br>\n",
    "Note 3: Convert panda's dataframe to SFrame, a requirement for Graphlab. </b>"
   ]
  },
  {
   "cell_type": "code",
   "execution_count": 19,
   "metadata": {
    "collapsed": false
   },
   "outputs": [],
   "source": [
    "df_seg2_growable = df[df.SegmentNo == 2]  \n",
    "df_seg2_growable = df_seg2_growable[['Card_ID', 'pdt_type']]\n",
    "df_seg2_growable_SFrame = gl.SFrame(df_seg2_growable)## convert into S-Frame\n",
    "df_seg2_growable_SFrame.save('dataset\\dataset_recommender_2.csv', format='csv') "
   ]
  },
  {
   "cell_type": "markdown",
   "metadata": {},
   "source": [
    "#### Step 3 of 5: Create Train and Test Dataset\n",
    "Note : This is done with 50% splitting between test and train dataset."
   ]
  },
  {
   "cell_type": "code",
   "execution_count": 20,
   "metadata": {
    "collapsed": true
   },
   "outputs": [],
   "source": [
    "train_s2, test_s2 = gl.recommender.util.random_split_by_user (df_seg2_growable_SFrame,\\\n",
    "                    user_id = 'Card_ID', item_id = 'pdt_type', \\\n",
    "                    item_test_proportion = 0.5, random_seed = 2017)"
   ]
  },
  {
   "cell_type": "markdown",
   "metadata": {},
   "source": [
    "#### Step 4 of 5: Creation of 3 different possible models. "
   ]
  },
  {
   "cell_type": "code",
   "execution_count": 21,
   "metadata": {
    "collapsed": false
   },
   "outputs": [
    {
     "data": {
      "text/html": [
       "<pre>Recsys training: model = item_similarity</pre>"
      ],
      "text/plain": [
       "Recsys training: model = item_similarity"
      ]
     },
     "metadata": {},
     "output_type": "display_data"
    },
    {
     "data": {
      "text/html": [
       "<pre>Preparing data set.</pre>"
      ],
      "text/plain": [
       "Preparing data set."
      ]
     },
     "metadata": {},
     "output_type": "display_data"
    },
    {
     "data": {
      "text/html": [
       "<pre>    Data has 5491 observations with 3492 users and 21 items.</pre>"
      ],
      "text/plain": [
       "    Data has 5491 observations with 3492 users and 21 items."
      ]
     },
     "metadata": {},
     "output_type": "display_data"
    },
    {
     "data": {
      "text/html": [
       "<pre>    Data prepared in: 0.038326s</pre>"
      ],
      "text/plain": [
       "    Data prepared in: 0.038326s"
      ]
     },
     "metadata": {},
     "output_type": "display_data"
    },
    {
     "data": {
      "text/html": [
       "<pre>Training model from provided data.</pre>"
      ],
      "text/plain": [
       "Training model from provided data."
      ]
     },
     "metadata": {},
     "output_type": "display_data"
    },
    {
     "data": {
      "text/html": [
       "<pre>Gathering per-item and per-user statistics.</pre>"
      ],
      "text/plain": [
       "Gathering per-item and per-user statistics."
      ]
     },
     "metadata": {},
     "output_type": "display_data"
    },
    {
     "data": {
      "text/html": [
       "<pre>+--------------------------------+------------+</pre>"
      ],
      "text/plain": [
       "+--------------------------------+------------+"
      ]
     },
     "metadata": {},
     "output_type": "display_data"
    },
    {
     "data": {
      "text/html": [
       "<pre>| Elapsed Time (Item Statistics) | % Complete |</pre>"
      ],
      "text/plain": [
       "| Elapsed Time (Item Statistics) | % Complete |"
      ]
     },
     "metadata": {},
     "output_type": "display_data"
    },
    {
     "data": {
      "text/html": [
       "<pre>+--------------------------------+------------+</pre>"
      ],
      "text/plain": [
       "+--------------------------------+------------+"
      ]
     },
     "metadata": {},
     "output_type": "display_data"
    },
    {
     "data": {
      "text/html": [
       "<pre>| 1.006ms                        | 57.25      |</pre>"
      ],
      "text/plain": [
       "| 1.006ms                        | 57.25      |"
      ]
     },
     "metadata": {},
     "output_type": "display_data"
    },
    {
     "data": {
      "text/html": [
       "<pre>| 2.001ms                        | 100        |</pre>"
      ],
      "text/plain": [
       "| 2.001ms                        | 100        |"
      ]
     },
     "metadata": {},
     "output_type": "display_data"
    },
    {
     "data": {
      "text/html": [
       "<pre>+--------------------------------+------------+</pre>"
      ],
      "text/plain": [
       "+--------------------------------+------------+"
      ]
     },
     "metadata": {},
     "output_type": "display_data"
    },
    {
     "data": {
      "text/html": [
       "<pre>Setting up lookup tables.</pre>"
      ],
      "text/plain": [
       "Setting up lookup tables."
      ]
     },
     "metadata": {},
     "output_type": "display_data"
    },
    {
     "data": {
      "text/html": [
       "<pre>Processing data in one pass using dense lookup tables.</pre>"
      ],
      "text/plain": [
       "Processing data in one pass using dense lookup tables."
      ]
     },
     "metadata": {},
     "output_type": "display_data"
    },
    {
     "data": {
      "text/html": [
       "<pre>+-------------------------------------+------------------+-----------------+</pre>"
      ],
      "text/plain": [
       "+-------------------------------------+------------------+-----------------+"
      ]
     },
     "metadata": {},
     "output_type": "display_data"
    },
    {
     "data": {
      "text/html": [
       "<pre>| Elapsed Time (Constructing Lookups) | Total % Complete | Items Processed |</pre>"
      ],
      "text/plain": [
       "| Elapsed Time (Constructing Lookups) | Total % Complete | Items Processed |"
      ]
     },
     "metadata": {},
     "output_type": "display_data"
    },
    {
     "data": {
      "text/html": [
       "<pre>+-------------------------------------+------------------+-----------------+</pre>"
      ],
      "text/plain": [
       "+-------------------------------------+------------------+-----------------+"
      ]
     },
     "metadata": {},
     "output_type": "display_data"
    },
    {
     "data": {
      "text/html": [
       "<pre>| 3.013ms                             | 0                | 0               |</pre>"
      ],
      "text/plain": [
       "| 3.013ms                             | 0                | 0               |"
      ]
     },
     "metadata": {},
     "output_type": "display_data"
    },
    {
     "data": {
      "text/html": [
       "<pre>| 4.003ms                             | 100              | 21              |</pre>"
      ],
      "text/plain": [
       "| 4.003ms                             | 100              | 21              |"
      ]
     },
     "metadata": {},
     "output_type": "display_data"
    },
    {
     "data": {
      "text/html": [
       "<pre>+-------------------------------------+------------------+-----------------+</pre>"
      ],
      "text/plain": [
       "+-------------------------------------+------------------+-----------------+"
      ]
     },
     "metadata": {},
     "output_type": "display_data"
    },
    {
     "data": {
      "text/html": [
       "<pre>Finalizing lookup tables.</pre>"
      ],
      "text/plain": [
       "Finalizing lookup tables."
      ]
     },
     "metadata": {},
     "output_type": "display_data"
    },
    {
     "data": {
      "text/html": [
       "<pre>Generating candidate set for working with new users.</pre>"
      ],
      "text/plain": [
       "Generating candidate set for working with new users."
      ]
     },
     "metadata": {},
     "output_type": "display_data"
    },
    {
     "data": {
      "text/html": [
       "<pre>Finished training in 0.007027s</pre>"
      ],
      "text/plain": [
       "Finished training in 0.007027s"
      ]
     },
     "metadata": {},
     "output_type": "display_data"
    },
    {
     "data": {
      "text/html": [
       "<pre>Recsys training: model = item_similarity</pre>"
      ],
      "text/plain": [
       "Recsys training: model = item_similarity"
      ]
     },
     "metadata": {},
     "output_type": "display_data"
    },
    {
     "data": {
      "text/html": [
       "<pre>Preparing data set.</pre>"
      ],
      "text/plain": [
       "Preparing data set."
      ]
     },
     "metadata": {},
     "output_type": "display_data"
    },
    {
     "data": {
      "text/html": [
       "<pre>    Data has 5491 observations with 3492 users and 21 items.</pre>"
      ],
      "text/plain": [
       "    Data has 5491 observations with 3492 users and 21 items."
      ]
     },
     "metadata": {},
     "output_type": "display_data"
    },
    {
     "data": {
      "text/html": [
       "<pre>    Data prepared in: 0.023018s</pre>"
      ],
      "text/plain": [
       "    Data prepared in: 0.023018s"
      ]
     },
     "metadata": {},
     "output_type": "display_data"
    },
    {
     "data": {
      "text/html": [
       "<pre>Training model from provided data.</pre>"
      ],
      "text/plain": [
       "Training model from provided data."
      ]
     },
     "metadata": {},
     "output_type": "display_data"
    },
    {
     "data": {
      "text/html": [
       "<pre>Gathering per-item and per-user statistics.</pre>"
      ],
      "text/plain": [
       "Gathering per-item and per-user statistics."
      ]
     },
     "metadata": {},
     "output_type": "display_data"
    },
    {
     "data": {
      "text/html": [
       "<pre>+--------------------------------+------------+</pre>"
      ],
      "text/plain": [
       "+--------------------------------+------------+"
      ]
     },
     "metadata": {},
     "output_type": "display_data"
    },
    {
     "data": {
      "text/html": [
       "<pre>| Elapsed Time (Item Statistics) | % Complete |</pre>"
      ],
      "text/plain": [
       "| Elapsed Time (Item Statistics) | % Complete |"
      ]
     },
     "metadata": {},
     "output_type": "display_data"
    },
    {
     "data": {
      "text/html": [
       "<pre>+--------------------------------+------------+</pre>"
      ],
      "text/plain": [
       "+--------------------------------+------------+"
      ]
     },
     "metadata": {},
     "output_type": "display_data"
    },
    {
     "data": {
      "text/html": [
       "<pre>| 0us                            | 28.5       |</pre>"
      ],
      "text/plain": [
       "| 0us                            | 28.5       |"
      ]
     },
     "metadata": {},
     "output_type": "display_data"
    },
    {
     "data": {
      "text/html": [
       "<pre>| 1.007ms                        | 100        |</pre>"
      ],
      "text/plain": [
       "| 1.007ms                        | 100        |"
      ]
     },
     "metadata": {},
     "output_type": "display_data"
    },
    {
     "data": {
      "text/html": [
       "<pre>+--------------------------------+------------+</pre>"
      ],
      "text/plain": [
       "+--------------------------------+------------+"
      ]
     },
     "metadata": {},
     "output_type": "display_data"
    },
    {
     "data": {
      "text/html": [
       "<pre>Setting up lookup tables.</pre>"
      ],
      "text/plain": [
       "Setting up lookup tables."
      ]
     },
     "metadata": {},
     "output_type": "display_data"
    },
    {
     "data": {
      "text/html": [
       "<pre>Processing data in one pass using dense lookup tables.</pre>"
      ],
      "text/plain": [
       "Processing data in one pass using dense lookup tables."
      ]
     },
     "metadata": {},
     "output_type": "display_data"
    },
    {
     "data": {
      "text/html": [
       "<pre>+-------------------------------------+------------------+-----------------+</pre>"
      ],
      "text/plain": [
       "+-------------------------------------+------------------+-----------------+"
      ]
     },
     "metadata": {},
     "output_type": "display_data"
    },
    {
     "data": {
      "text/html": [
       "<pre>| Elapsed Time (Constructing Lookups) | Total % Complete | Items Processed |</pre>"
      ],
      "text/plain": [
       "| Elapsed Time (Constructing Lookups) | Total % Complete | Items Processed |"
      ]
     },
     "metadata": {},
     "output_type": "display_data"
    },
    {
     "data": {
      "text/html": [
       "<pre>+-------------------------------------+------------------+-----------------+</pre>"
      ],
      "text/plain": [
       "+-------------------------------------+------------------+-----------------+"
      ]
     },
     "metadata": {},
     "output_type": "display_data"
    },
    {
     "data": {
      "text/html": [
       "<pre>| 4.013ms                             | 0                | 0               |</pre>"
      ],
      "text/plain": [
       "| 4.013ms                             | 0                | 0               |"
      ]
     },
     "metadata": {},
     "output_type": "display_data"
    },
    {
     "data": {
      "text/html": [
       "<pre>| 6.02ms                              | 100              | 21              |</pre>"
      ],
      "text/plain": [
       "| 6.02ms                              | 100              | 21              |"
      ]
     },
     "metadata": {},
     "output_type": "display_data"
    },
    {
     "data": {
      "text/html": [
       "<pre>+-------------------------------------+------------------+-----------------+</pre>"
      ],
      "text/plain": [
       "+-------------------------------------+------------------+-----------------+"
      ]
     },
     "metadata": {},
     "output_type": "display_data"
    },
    {
     "data": {
      "text/html": [
       "<pre>Finalizing lookup tables.</pre>"
      ],
      "text/plain": [
       "Finalizing lookup tables."
      ]
     },
     "metadata": {},
     "output_type": "display_data"
    },
    {
     "data": {
      "text/html": [
       "<pre>Generating candidate set for working with new users.</pre>"
      ],
      "text/plain": [
       "Generating candidate set for working with new users."
      ]
     },
     "metadata": {},
     "output_type": "display_data"
    },
    {
     "data": {
      "text/html": [
       "<pre>Finished training in 0.010005s</pre>"
      ],
      "text/plain": [
       "Finished training in 0.010005s"
      ]
     },
     "metadata": {},
     "output_type": "display_data"
    },
    {
     "data": {
      "text/html": [
       "<pre>Recsys training: model = ranking_factorization_recommender</pre>"
      ],
      "text/plain": [
       "Recsys training: model = ranking_factorization_recommender"
      ]
     },
     "metadata": {},
     "output_type": "display_data"
    },
    {
     "data": {
      "text/html": [
       "<pre>Preparing data set.</pre>"
      ],
      "text/plain": [
       "Preparing data set."
      ]
     },
     "metadata": {},
     "output_type": "display_data"
    },
    {
     "data": {
      "text/html": [
       "<pre>    Data has 5491 observations with 3492 users and 21 items.</pre>"
      ],
      "text/plain": [
       "    Data has 5491 observations with 3492 users and 21 items."
      ]
     },
     "metadata": {},
     "output_type": "display_data"
    },
    {
     "data": {
      "text/html": [
       "<pre>    Data prepared in: 0.023017s</pre>"
      ],
      "text/plain": [
       "    Data prepared in: 0.023017s"
      ]
     },
     "metadata": {},
     "output_type": "display_data"
    },
    {
     "data": {
      "text/html": [
       "<pre>Training ranking_factorization_recommender for recommendations.</pre>"
      ],
      "text/plain": [
       "Training ranking_factorization_recommender for recommendations."
      ]
     },
     "metadata": {},
     "output_type": "display_data"
    },
    {
     "data": {
      "text/html": [
       "<pre>+------------------------------+--------------------------------------------------+----------+</pre>"
      ],
      "text/plain": [
       "+------------------------------+--------------------------------------------------+----------+"
      ]
     },
     "metadata": {},
     "output_type": "display_data"
    },
    {
     "data": {
      "text/html": [
       "<pre>| Parameter                    | Description                                      | Value    |</pre>"
      ],
      "text/plain": [
       "| Parameter                    | Description                                      | Value    |"
      ]
     },
     "metadata": {},
     "output_type": "display_data"
    },
    {
     "data": {
      "text/html": [
       "<pre>+------------------------------+--------------------------------------------------+----------+</pre>"
      ],
      "text/plain": [
       "+------------------------------+--------------------------------------------------+----------+"
      ]
     },
     "metadata": {},
     "output_type": "display_data"
    },
    {
     "data": {
      "text/html": [
       "<pre>| num_factors                  | Factor Dimension                                 | 32       |</pre>"
      ],
      "text/plain": [
       "| num_factors                  | Factor Dimension                                 | 32       |"
      ]
     },
     "metadata": {},
     "output_type": "display_data"
    },
    {
     "data": {
      "text/html": [
       "<pre>| regularization               | L2 Regularization on Factors                     | 1e-009   |</pre>"
      ],
      "text/plain": [
       "| regularization               | L2 Regularization on Factors                     | 1e-009   |"
      ]
     },
     "metadata": {},
     "output_type": "display_data"
    },
    {
     "data": {
      "text/html": [
       "<pre>| max_iterations               | Maximum Number of Iterations                     | 25       |</pre>"
      ],
      "text/plain": [
       "| max_iterations               | Maximum Number of Iterations                     | 25       |"
      ]
     },
     "metadata": {},
     "output_type": "display_data"
    },
    {
     "data": {
      "text/html": [
       "<pre>| solver                       | Solver used for training                         | ials     |</pre>"
      ],
      "text/plain": [
       "| solver                       | Solver used for training                         | ials     |"
      ]
     },
     "metadata": {},
     "output_type": "display_data"
    },
    {
     "data": {
      "text/html": [
       "<pre>+------------------------------+--------------------------------------------------+----------+</pre>"
      ],
      "text/plain": [
       "+------------------------------+--------------------------------------------------+----------+"
      ]
     },
     "metadata": {},
     "output_type": "display_data"
    },
    {
     "data": {
      "text/html": [
       "<pre>+---------+--------------+---------------------------+</pre>"
      ],
      "text/plain": [
       "+---------+--------------+---------------------------+"
      ]
     },
     "metadata": {},
     "output_type": "display_data"
    },
    {
     "data": {
      "text/html": [
       "<pre>| Iter.   | Elapsed time | Estimated Objective Value |</pre>"
      ],
      "text/plain": [
       "| Iter.   | Elapsed time | Estimated Objective Value |"
      ]
     },
     "metadata": {},
     "output_type": "display_data"
    },
    {
     "data": {
      "text/html": [
       "<pre>+---------+--------------+---------------------------+</pre>"
      ],
      "text/plain": [
       "+---------+--------------+---------------------------+"
      ]
     },
     "metadata": {},
     "output_type": "display_data"
    },
    {
     "data": {
      "text/html": [
       "<pre>| Initial | 0us          | NA                        |</pre>"
      ],
      "text/plain": [
       "| Initial | 0us          | NA                        |"
      ]
     },
     "metadata": {},
     "output_type": "display_data"
    },
    {
     "data": {
      "text/html": [
       "<pre>+---------+--------------+---------------------------+</pre>"
      ],
      "text/plain": [
       "+---------+--------------+---------------------------+"
      ]
     },
     "metadata": {},
     "output_type": "display_data"
    },
    {
     "data": {
      "text/html": [
       "<pre>| 0       | 108.074ms    | 0.0146212                 |</pre>"
      ],
      "text/plain": [
       "| 0       | 108.074ms    | 0.0146212                 |"
      ]
     },
     "metadata": {},
     "output_type": "display_data"
    },
    {
     "data": {
      "text/html": [
       "<pre>| 1       | 186.133ms    | 2.72342                   |</pre>"
      ],
      "text/plain": [
       "| 1       | 186.133ms    | 2.72342                   |"
      ]
     },
     "metadata": {},
     "output_type": "display_data"
    },
    {
     "data": {
      "text/html": [
       "<pre>| 2       | 252.177ms    | 0.507429                  |</pre>"
      ],
      "text/plain": [
       "| 2       | 252.177ms    | 0.507429                  |"
      ]
     },
     "metadata": {},
     "output_type": "display_data"
    },
    {
     "data": {
      "text/html": [
       "<pre>| 3       | 303.213ms    | 1.41392                   |</pre>"
      ],
      "text/plain": [
       "| 3       | 303.213ms    | 1.41392                   |"
      ]
     },
     "metadata": {},
     "output_type": "display_data"
    },
    {
     "data": {
      "text/html": [
       "<pre>| 4       | 357.269ms    | 0.301729                  |</pre>"
      ],
      "text/plain": [
       "| 4       | 357.269ms    | 0.301729                  |"
      ]
     },
     "metadata": {},
     "output_type": "display_data"
    },
    {
     "data": {
      "text/html": [
       "<pre>| 5       | 416.293ms    | 0.277017                  |</pre>"
      ],
      "text/plain": [
       "| 5       | 416.293ms    | 0.277017                  |"
      ]
     },
     "metadata": {},
     "output_type": "display_data"
    },
    {
     "data": {
      "text/html": [
       "<pre>| 6       | 477.337ms    | 0.176367                  |</pre>"
      ],
      "text/plain": [
       "| 6       | 477.337ms    | 0.176367                  |"
      ]
     },
     "metadata": {},
     "output_type": "display_data"
    },
    {
     "data": {
      "text/html": [
       "<pre>| 7       | 541.382ms    | 0.175236                  |</pre>"
      ],
      "text/plain": [
       "| 7       | 541.382ms    | 0.175236                  |"
      ]
     },
     "metadata": {},
     "output_type": "display_data"
    },
    {
     "data": {
      "text/html": [
       "<pre>| 8       | 597.428ms    | 0.192585                  |</pre>"
      ],
      "text/plain": [
       "| 8       | 597.428ms    | 0.192585                  |"
      ]
     },
     "metadata": {},
     "output_type": "display_data"
    },
    {
     "data": {
      "text/html": [
       "<pre>| 9       | 656.463ms    | 0.038027                  |</pre>"
      ],
      "text/plain": [
       "| 9       | 656.463ms    | 0.038027                  |"
      ]
     },
     "metadata": {},
     "output_type": "display_data"
    },
    {
     "data": {
      "text/html": [
       "<pre>| 10      | 721.51ms     | 0.0887392                 |</pre>"
      ],
      "text/plain": [
       "| 10      | 721.51ms     | 0.0887392                 |"
      ]
     },
     "metadata": {},
     "output_type": "display_data"
    },
    {
     "data": {
      "text/html": [
       "<pre>| 11      | 779.551ms    | 0.0159575                 |</pre>"
      ],
      "text/plain": [
       "| 11      | 779.551ms    | 0.0159575                 |"
      ]
     },
     "metadata": {},
     "output_type": "display_data"
    },
    {
     "data": {
      "text/html": [
       "<pre>| 12      | 849.6ms      | 0.129588                  |</pre>"
      ],
      "text/plain": [
       "| 12      | 849.6ms      | 0.129588                  |"
      ]
     },
     "metadata": {},
     "output_type": "display_data"
    },
    {
     "data": {
      "text/html": [
       "<pre>| 13      | 905.17ms     | 0.134391                  |</pre>"
      ],
      "text/plain": [
       "| 13      | 905.17ms     | 0.134391                  |"
      ]
     },
     "metadata": {},
     "output_type": "display_data"
    },
    {
     "data": {
      "text/html": [
       "<pre>| 14      | 971.234ms    | 0.0266231                 |</pre>"
      ],
      "text/plain": [
       "| 14      | 971.234ms    | 0.0266231                 |"
      ]
     },
     "metadata": {},
     "output_type": "display_data"
    },
    {
     "data": {
      "text/html": [
       "<pre>| 15      | 1.03s        | 0.0208979                 |</pre>"
      ],
      "text/plain": [
       "| 15      | 1.03s        | 0.0208979                 |"
      ]
     },
     "metadata": {},
     "output_type": "display_data"
    },
    {
     "data": {
      "text/html": [
       "<pre>| 16      | 1.09s        | 0.142289                  |</pre>"
      ],
      "text/plain": [
       "| 16      | 1.09s        | 0.142289                  |"
      ]
     },
     "metadata": {},
     "output_type": "display_data"
    },
    {
     "data": {
      "text/html": [
       "<pre>| 17      | 1.15s        | 0.1924                    |</pre>"
      ],
      "text/plain": [
       "| 17      | 1.15s        | 0.1924                    |"
      ]
     },
     "metadata": {},
     "output_type": "display_data"
    },
    {
     "data": {
      "text/html": [
       "<pre>| 18      | 1.21s        | 0.0588915                 |</pre>"
      ],
      "text/plain": [
       "| 18      | 1.21s        | 0.0588915                 |"
      ]
     },
     "metadata": {},
     "output_type": "display_data"
    },
    {
     "data": {
      "text/html": [
       "<pre>| 19      | 1.28s        | 1.2552                    |</pre>"
      ],
      "text/plain": [
       "| 19      | 1.28s        | 1.2552                    |"
      ]
     },
     "metadata": {},
     "output_type": "display_data"
    },
    {
     "data": {
      "text/html": [
       "<pre>| 20      | 1.33s        | 0.431125                  |</pre>"
      ],
      "text/plain": [
       "| 20      | 1.33s        | 0.431125                  |"
      ]
     },
     "metadata": {},
     "output_type": "display_data"
    },
    {
     "data": {
      "text/html": [
       "<pre>| 21      | 1.38s        | 0.117843                  |</pre>"
      ],
      "text/plain": [
       "| 21      | 1.38s        | 0.117843                  |"
      ]
     },
     "metadata": {},
     "output_type": "display_data"
    },
    {
     "data": {
      "text/html": [
       "<pre>| 22      | 1.45s        | 0.110527                  |</pre>"
      ],
      "text/plain": [
       "| 22      | 1.45s        | 0.110527                  |"
      ]
     },
     "metadata": {},
     "output_type": "display_data"
    },
    {
     "data": {
      "text/html": [
       "<pre>| 23      | 1.51s        | 0.174974                  |</pre>"
      ],
      "text/plain": [
       "| 23      | 1.51s        | 0.174974                  |"
      ]
     },
     "metadata": {},
     "output_type": "display_data"
    },
    {
     "data": {
      "text/html": [
       "<pre>| 24      | 1.57s        | 0.88378                   |</pre>"
      ],
      "text/plain": [
       "| 24      | 1.57s        | 0.88378                   |"
      ]
     },
     "metadata": {},
     "output_type": "display_data"
    },
    {
     "data": {
      "text/html": [
       "<pre>| FINAL   | 1.57s        | 0.88378                   |</pre>"
      ],
      "text/plain": [
       "| FINAL   | 1.57s        | 0.88378                   |"
      ]
     },
     "metadata": {},
     "output_type": "display_data"
    },
    {
     "data": {
      "text/html": [
       "<pre>+---------+--------------+---------------------------+</pre>"
      ],
      "text/plain": [
       "+---------+--------------+---------------------------+"
      ]
     },
     "metadata": {},
     "output_type": "display_data"
    },
    {
     "data": {
      "text/html": [
       "<pre>Optimization Complete: Iteration limit reached.</pre>"
      ],
      "text/plain": [
       "Optimization Complete: Iteration limit reached."
      ]
     },
     "metadata": {},
     "output_type": "display_data"
    }
   ],
   "source": [
    "# Step 4: Create Model 2 - Pearson Similarity Score\n",
    "\n",
    "train_s2_model_pearson = gl.recommender.item_similarity_recommender.create \\\n",
    "                (train_s2, user_id='Card_ID', item_id='pdt_type',\\\n",
    "                similarity_type='pearson')\n",
    "\n",
    "\n",
    "# Step 4: Create Model 2 - Jaccard Similarity Score\n",
    "train_s2_model_jaccard = gl.recommender.item_similarity_recommender.create \\\n",
    "                (train_s2, user_id='Card_ID', item_id='pdt_type',\\\n",
    "                similarity_type='jaccard')\n",
    "\n",
    "# Step 5: Create Model 3 - Factorization \n",
    "\n",
    "train_s2_model_factorization = gl.recommender.ranking_factorization_recommender.\\\n",
    "                create(train_s2,\\\n",
    "                user_id='Card_ID', item_id='pdt_type',\\\n",
    "                 random_seed = 2017, solver = 'ials')\n"
   ]
  },
  {
   "cell_type": "markdown",
   "metadata": {},
   "source": [
    "#### Step 5 of 5: Compare the Precision Rate of all the 3 models"
   ]
  },
  {
   "cell_type": "code",
   "execution_count": 22,
   "metadata": {
    "collapsed": false
   },
   "outputs": [
    {
     "name": "stdout",
     "output_type": "stream",
     "text": [
      "PROGRESS: Evaluate model m1\n",
      "\n",
      "Precision and recall summary statistics by cutoff\n",
      "+--------+-----------------+----------------+\n",
      "| cutoff |  mean_precision |  mean_recall   |\n",
      "+--------+-----------------+----------------+\n",
      "|   1    |  0.255319148936 | 0.22695035461  |\n",
      "|   2    |  0.20780141844  | 0.375177304965 |\n",
      "|   3    |  0.191489361702 | 0.50780141844  |\n",
      "|   4    |  0.174822695035 | 0.617730496454 |\n",
      "|   5    |  0.157730496454 | 0.69219858156  |\n",
      "|   6    |  0.139716312057 | 0.73475177305  |\n",
      "|   7    |  0.12462006079  | 0.762411347518 |\n",
      "|   8    |  0.113120567376 | 0.79219858156  |\n",
      "|   9    |  0.104176516942 | 0.823404255319 |\n",
      "|   10   | 0.0971631205674 | 0.856737588652 |\n",
      "+--------+-----------------+----------------+\n",
      "[10 rows x 3 columns]\n",
      "\n",
      "PROGRESS: Evaluate model m2\n",
      "\n",
      "Precision and recall summary statistics by cutoff\n",
      "+--------+-----------------+----------------+\n",
      "| cutoff |  mean_precision |  mean_recall   |\n",
      "+--------+-----------------+----------------+\n",
      "|   1    |  0.175886524823 | 0.149645390071 |\n",
      "|   2    |  0.20780141844  | 0.360992907801 |\n",
      "|   3    |  0.181087470449 | 0.473758865248 |\n",
      "|   4    |  0.163120567376 | 0.568085106383 |\n",
      "|   5    |  0.158865248227 | 0.697872340426 |\n",
      "|   6    |  0.141843971631 | 0.747517730496 |\n",
      "|   7    |  0.127456940223 | 0.783687943262 |\n",
      "|   8    |  0.114361702128 | 0.805673758865 |\n",
      "|   9    |  0.106540583136 | 0.843262411348 |\n",
      "|   10   | 0.0981560283688 | 0.863829787234 |\n",
      "+--------+-----------------+----------------+\n",
      "[10 rows x 3 columns]\n",
      "\n",
      "PROGRESS: Evaluate model m3\n",
      "\n",
      "Precision and recall summary statistics by cutoff\n",
      "+--------+-----------------+----------------+\n",
      "| cutoff |  mean_precision |  mean_recall   |\n",
      "+--------+-----------------+----------------+\n",
      "|   1    |  0.117730496454 | 0.114893617021 |\n",
      "|   2    |  0.126241134752 | 0.237588652482 |\n",
      "|   3    | 0.0992907801418 | 0.276595744681 |\n",
      "|   4    | 0.0946808510638 | 0.342553191489 |\n",
      "|   5    | 0.0814184397163 | 0.368794326241 |\n",
      "|   6    | 0.0841607565012 | 0.451773049645 |\n",
      "|   7    | 0.0782168186424 | 0.491489361702 |\n",
      "|   8    | 0.0739361702128 | 0.528368794326 |\n",
      "|   9    | 0.0816390858944 | 0.643262411348 |\n",
      "|   10   | 0.0815602836879 | 0.721985815603 |\n",
      "+--------+-----------------+----------------+\n",
      "[10 rows x 3 columns]\n",
      "\n"
     ]
    }
   ],
   "source": [
    "x2 = gl.recommender.util.compare_models(test_s2 , \\\n",
    "    [train_s2_model_pearson, train_s2_model_jaccard, train_s2_model_factorization ], model_names=[\"m1\", \"m2\", \"m3\"])"
   ]
  },
  {
   "cell_type": "markdown",
   "metadata": {},
   "source": [
    "## Selection Final Model and Create Dataset of Results"
   ]
  },
  {
   "cell_type": "code",
   "execution_count": 23,
   "metadata": {
    "collapsed": false
   },
   "outputs": [
    {
     "data": {
      "text/html": [
       "<pre>Recsys training: model = item_similarity</pre>"
      ],
      "text/plain": [
       "Recsys training: model = item_similarity"
      ]
     },
     "metadata": {},
     "output_type": "display_data"
    },
    {
     "data": {
      "text/html": [
       "<pre>Preparing data set.</pre>"
      ],
      "text/plain": [
       "Preparing data set."
      ]
     },
     "metadata": {},
     "output_type": "display_data"
    },
    {
     "data": {
      "text/html": [
       "<pre>    Data has 6295 observations with 3766 users and 21 items.</pre>"
      ],
      "text/plain": [
       "    Data has 6295 observations with 3766 users and 21 items."
      ]
     },
     "metadata": {},
     "output_type": "display_data"
    },
    {
     "data": {
      "text/html": [
       "<pre>    Data prepared in: 0.057536s</pre>"
      ],
      "text/plain": [
       "    Data prepared in: 0.057536s"
      ]
     },
     "metadata": {},
     "output_type": "display_data"
    },
    {
     "data": {
      "text/html": [
       "<pre>Training model from provided data.</pre>"
      ],
      "text/plain": [
       "Training model from provided data."
      ]
     },
     "metadata": {},
     "output_type": "display_data"
    },
    {
     "data": {
      "text/html": [
       "<pre>Gathering per-item and per-user statistics.</pre>"
      ],
      "text/plain": [
       "Gathering per-item and per-user statistics."
      ]
     },
     "metadata": {},
     "output_type": "display_data"
    },
    {
     "data": {
      "text/html": [
       "<pre>+--------------------------------+------------+</pre>"
      ],
      "text/plain": [
       "+--------------------------------+------------+"
      ]
     },
     "metadata": {},
     "output_type": "display_data"
    }
   ],
   "source": [
    "train_s2_model_final= gl.recommender.item_similarity_recommender.create \\\n",
    "                (df_seg2_growable_SFrame, user_id='Card_ID', item_id='pdt_type',\\\n",
    "                similarity_type='jaccard')"
   ]
  },
  {
   "cell_type": "code",
   "execution_count": 24,
   "metadata": {
    "collapsed": false
   },
   "outputs": [
    {
     "data": {
      "text/html": [
       "<pre>| Elapsed Time (Item Statistics) | % Complete |</pre>"
      ],
      "text/plain": [
       "| Elapsed Time (Item Statistics) | % Complete |"
      ]
     },
     "metadata": {},
     "output_type": "display_data"
    },
    {
     "data": {
      "text/html": [
       "<pre>+--------------------------------+------------+</pre>"
      ],
      "text/plain": [
       "+--------------------------------+------------+"
      ]
     },
     "metadata": {},
     "output_type": "display_data"
    },
    {
     "data": {
      "text/html": [
       "<pre>| 0us                            | 79.5       |</pre>"
      ],
      "text/plain": [
       "| 0us                            | 79.5       |"
      ]
     },
     "metadata": {},
     "output_type": "display_data"
    },
    {
     "data": {
      "text/html": [
       "<pre>| 0us                            | 100        |</pre>"
      ],
      "text/plain": [
       "| 0us                            | 100        |"
      ]
     },
     "metadata": {},
     "output_type": "display_data"
    },
    {
     "data": {
      "text/html": [
       "<pre>+--------------------------------+------------+</pre>"
      ],
      "text/plain": [
       "+--------------------------------+------------+"
      ]
     },
     "metadata": {},
     "output_type": "display_data"
    },
    {
     "data": {
      "text/html": [
       "<pre>Setting up lookup tables.</pre>"
      ],
      "text/plain": [
       "Setting up lookup tables."
      ]
     },
     "metadata": {},
     "output_type": "display_data"
    },
    {
     "data": {
      "text/html": [
       "<pre>Processing data in one pass using dense lookup tables.</pre>"
      ],
      "text/plain": [
       "Processing data in one pass using dense lookup tables."
      ]
     },
     "metadata": {},
     "output_type": "display_data"
    },
    {
     "data": {
      "text/html": [
       "<pre>+-------------------------------------+------------------+-----------------+</pre>"
      ],
      "text/plain": [
       "+-------------------------------------+------------------+-----------------+"
      ]
     },
     "metadata": {},
     "output_type": "display_data"
    },
    {
     "data": {
      "text/html": [
       "<pre>| Elapsed Time (Constructing Lookups) | Total % Complete | Items Processed |</pre>"
      ],
      "text/plain": [
       "| Elapsed Time (Constructing Lookups) | Total % Complete | Items Processed |"
      ]
     },
     "metadata": {},
     "output_type": "display_data"
    },
    {
     "data": {
      "text/html": [
       "<pre>+-------------------------------------+------------------+-----------------+</pre>"
      ],
      "text/plain": [
       "+-------------------------------------+------------------+-----------------+"
      ]
     },
     "metadata": {},
     "output_type": "display_data"
    },
    {
     "data": {
      "text/html": [
       "<pre>| 15.85ms                             | 0                | 0               |</pre>"
      ],
      "text/plain": [
       "| 15.85ms                             | 0                | 0               |"
      ]
     },
     "metadata": {},
     "output_type": "display_data"
    },
    {
     "data": {
      "text/html": [
       "<pre>| 15.85ms                             | 100              | 21              |</pre>"
      ],
      "text/plain": [
       "| 15.85ms                             | 100              | 21              |"
      ]
     },
     "metadata": {},
     "output_type": "display_data"
    },
    {
     "data": {
      "text/html": [
       "<pre>+-------------------------------------+------------------+-----------------+</pre>"
      ],
      "text/plain": [
       "+-------------------------------------+------------------+-----------------+"
      ]
     },
     "metadata": {},
     "output_type": "display_data"
    },
    {
     "data": {
      "text/html": [
       "<pre>Finalizing lookup tables.</pre>"
      ],
      "text/plain": [
       "Finalizing lookup tables."
      ]
     },
     "metadata": {},
     "output_type": "display_data"
    },
    {
     "data": {
      "text/html": [
       "<pre>Generating candidate set for working with new users.</pre>"
      ],
      "text/plain": [
       "Generating candidate set for working with new users."
      ]
     },
     "metadata": {},
     "output_type": "display_data"
    },
    {
     "data": {
      "text/html": [
       "<pre>Finished training in 0.01585s</pre>"
      ],
      "text/plain": [
       "Finished training in 0.01585s"
      ]
     },
     "metadata": {},
     "output_type": "display_data"
    },
    {
     "data": {
      "text/html": [
       "<pre>recommendations finished on 1000/3766 queries. users per second: 200160</pre>"
      ],
      "text/plain": [
       "recommendations finished on 1000/3766 queries. users per second: 200160"
      ]
     },
     "metadata": {},
     "output_type": "display_data"
    },
    {
     "data": {
      "text/html": [
       "<pre>recommendations finished on 2000/3766 queries. users per second: 221951</pre>"
      ],
      "text/plain": [
       "recommendations finished on 2000/3766 queries. users per second: 221951"
      ]
     },
     "metadata": {},
     "output_type": "display_data"
    },
    {
     "data": {
      "text/html": [
       "<pre>recommendations finished on 3000/3766 queries. users per second: 230876</pre>"
      ],
      "text/plain": [
       "recommendations finished on 3000/3766 queries. users per second: 230876"
      ]
     },
     "metadata": {},
     "output_type": "display_data"
    }
   ],
   "source": [
    "## Output final dataset for visualization\n",
    "recs_final  = train_s2_model_final.recommend()\n",
    "recs_final.save('dataset\\dataset_final_recs2.csv', format='csv')"
   ]
  }
 ],
 "metadata": {
  "kernelspec": {
   "display_name": "Python 2",
   "language": "python",
   "name": "python2"
  },
  "language_info": {
   "codemirror_mode": {
    "name": "ipython",
    "version": 2
   },
   "file_extension": ".py",
   "mimetype": "text/x-python",
   "name": "python",
   "nbconvert_exporter": "python",
   "pygments_lexer": "ipython2",
   "version": "2.7.11"
  }
 },
 "nbformat": 4,
 "nbformat_minor": 0
}
